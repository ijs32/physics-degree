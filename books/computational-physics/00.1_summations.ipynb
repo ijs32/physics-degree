{
 "cells": [
  {
   "cell_type": "markdown",
   "id": "a156c626",
   "metadata": {},
   "source": [
    "_this sidestep is taken from the book Calculus: A Rigorous First Course_"
   ]
  },
  {
   "cell_type": "markdown",
   "id": "c3173498",
   "metadata": {},
   "source": [
    "## Summation Formulas\n",
    "\n",
    "1. $$\\sum_{i=1}^{n} c = nc $$\n",
    "\n",
    "2. $$\\sum_{i=1}^{n} i = \\frac{n(n+1)}{2} $$\n",
    "\n",
    "3. $$\\sum_{i=1}^{n} i^2 = \\frac{n(n+1)(2n+1)}{6} $$\n",
    "\n",
    "4. $$\\sum_{i=1}^{n} i^3 = \\frac{n^2(n+1)^2}{4} $$"
   ]
  },
  {
   "cell_type": "markdown",
   "id": "1d0efd5b",
   "metadata": {},
   "source": [
    "using the above formulas, we can derive summation formulas  \n",
    "\n",
    "example 5.1.3\n",
    "$$\\sum_{i=1}^{n} (i^3 - 3i^2 + i -5) = \\frac{n^4 - 2n^3 - 3n^2 - 20n}{4}"
   ]
  },
  {
   "cell_type": "code",
   "execution_count": 106,
   "id": "bdd0dffb",
   "metadata": {},
   "outputs": [],
   "source": [
    "# Using summation\n",
    "def summation_sum(n, i=1):\n",
    "    sum = 0\n",
    "    while i <= n:\n",
    "        sum += (i**3 - 3*i**2 + i - 5)\n",
    "\n",
    "        i += 1\n",
    "    \n",
    "    return sum"
   ]
  },
  {
   "cell_type": "code",
   "execution_count": 107,
   "id": "3de55452",
   "metadata": {},
   "outputs": [],
   "source": [
    "# Using summation formula\n",
    "def formula_sum(n):\n",
    "    return ((n**4 - 2*n**3 - 3*n**2 - 20*n) / 4)"
   ]
  },
  {
   "cell_type": "code",
   "execution_count": null,
   "id": "371acae4",
   "metadata": {},
   "outputs": [
    {
     "name": "stdout",
     "output_type": "stream",
     "text": [
      "summation sum: 333683455000\n",
      "formula sum: 333683455000.0\n"
     ]
    }
   ],
   "source": [
    "print(f\"summation sum: {summation_sum(20)}\")\n",
    "print(f\"formula sum: {formula_sum(20)}\")"
   ]
  },
  {
   "cell_type": "code",
   "execution_count": null,
   "id": "4c447d7a",
   "metadata": {},
   "outputs": [
    {
     "name": "stdout",
     "output_type": "stream",
     "text": [
      "835 μs ± 235 μs per loop (mean ± std. dev. of 7 runs, 10 loops each)\n",
      "228 ns ± 118 ns per loop (mean ± std. dev. of 7 runs, 10 loops each)\n"
     ]
    }
   ],
   "source": [
    "%timeit -n 10 summation_sum(20)\n",
    "%timeit -n 10 formula_sum(20)"
   ]
  },
  {
   "cell_type": "markdown",
   "id": "7c4cf8cb",
   "metadata": {},
   "source": [
    "Both approaches achieved the same answer as expected, but using the derived formula is exponentially more performant, Especially as you sum larger numbers"
   ]
  },
  {
   "cell_type": "markdown",
   "id": "4261070b",
   "metadata": {},
   "source": [
    "example 5.1.4\n",
    "\n",
    "$$\\sum_{k=1}^{m} (k+3)^2 = \\frac{2m^3 + 21m^2 +73m}{6}"
   ]
  },
  {
   "cell_type": "code",
   "execution_count": 113,
   "id": "c08e8d89",
   "metadata": {},
   "outputs": [],
   "source": [
    "\n",
    "## using summation\n",
    "def summation_sum(n: int, i=1):\n",
    "    sum = 0\n",
    "    while i <= n:\n",
    "        sum += (i + 3)**2\n",
    "        i += 1\n",
    "    \n",
    "    return sum\n"
   ]
  },
  {
   "cell_type": "code",
   "execution_count": 111,
   "id": "571e05dc",
   "metadata": {},
   "outputs": [],
   "source": [
    "def formula_sum(m: int):\n",
    "    return ((2*m**3 + 21*m**2 + 73*m)/6)"
   ]
  },
  {
   "cell_type": "code",
   "execution_count": 114,
   "id": "63e75ee1",
   "metadata": {},
   "outputs": [
    {
     "name": "stdout",
     "output_type": "stream",
     "text": [
      "Summation sum: 4310\n",
      "Formula sum: 4310.0\n"
     ]
    }
   ],
   "source": [
    "print(f\"Summation sum: {summation_sum(20)}\")\n",
    "print(f\"Formula sum: {formula_sum(20)}\")"
   ]
  },
  {
   "cell_type": "code",
   "execution_count": 115,
   "id": "beeadcc7",
   "metadata": {},
   "outputs": [
    {
     "name": "stdout",
     "output_type": "stream",
     "text": [
      "938 ns ± 102 ns per loop (mean ± std. dev. of 7 runs, 10 loops each)\n",
      "180 ns ± 72.6 ns per loop (mean ± std. dev. of 7 runs, 10 loops each)\n"
     ]
    }
   ],
   "source": [
    "%timeit -n 10 summation_sum(20)\n",
    "%timeit -n 10 formula_sum(20)"
   ]
  }
 ],
 "metadata": {
  "kernelspec": {
   "display_name": "Python 3 (ipykernel)",
   "language": "python",
   "name": "python3"
  }
 },
 "nbformat": 4,
 "nbformat_minor": 5
}
