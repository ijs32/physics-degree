{
 "cells": [
  {
   "cell_type": "markdown",
   "id": "c7d4f937",
   "metadata": {},
   "source": [
    "# Leibniz Determinant of Matrix"
   ]
  },
  {
   "cell_type": "markdown",
   "id": "7cc2d619-6d0d-4b58-b722-24666c0503a9",
   "metadata": {},
   "source": [
    "![alt text](../assets/determinant.png)"
   ]
  },
  {
   "cell_type": "markdown",
   "id": "7b88b467",
   "metadata": {},
   "source": [
    "What does this formula mean?\n",
    "\n",
    "$\\det(A) "
   ]
  },
  {
   "cell_type": "code",
   "execution_count": null,
   "id": "d5cc75db-3ee0-4ace-8019-e75cfdd54a96",
   "metadata": {},
   "outputs": [],
   "source": [
    "import math as m\n",
    "import numpy as np\n",
    "import matplotlib as mplt"
   ]
  },
  {
   "cell_type": "code",
   "execution_count": null,
   "id": "7cd50f5f",
   "metadata": {},
   "outputs": [],
   "source": [
    "def get_permutation_matrix(d: int) -> list:\n",
    "  base = np.array([i for i in range(d)])\n",
    "  p: list = []\n",
    "\n",
    "  while len(p) < m.factorial(d):\n",
    "    pass\n",
    "\n",
    "  return p"
   ]
  },
  {
   "cell_type": "code",
   "execution_count": null,
   "id": "62a12633",
   "metadata": {},
   "outputs": [],
   "source": [
    "def leibniz_det(arr: np.ndarray) -> int:\n",
    "  for row in get_permutation_matrix(arr.ndim):\n",
    "    pass\n",
    "  return 0"
   ]
  },
  {
   "cell_type": "code",
   "execution_count": null,
   "id": "10af2023-9623-4b06-80c0-1081ce220c02",
   "metadata": {},
   "outputs": [],
   "source": [
    "arr = np.array([\n",
    "  [1, 0, 0],\n",
    "  [0, 1, 0],\n",
    "  [0, 0, 1]\n",
    "])"
   ]
  }
 ],
 "metadata": {
  "kernelspec": {
   "display_name": "linear-algebra-y06jXQLy-py3.11",
   "language": "python",
   "name": "python3"
  },
  "language_info": {
   "codemirror_mode": {
    "name": "ipython",
    "version": 3
   },
   "file_extension": ".py",
   "mimetype": "text/x-python",
   "name": "python",
   "nbconvert_exporter": "python",
   "pygments_lexer": "ipython3",
   "version": "3.11.0"
  }
 },
 "nbformat": 4,
 "nbformat_minor": 5
}
