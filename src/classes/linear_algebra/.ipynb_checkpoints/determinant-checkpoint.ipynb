{
 "cells": [
  {
   "cell_type": "markdown",
   "id": "c7d4f937",
   "metadata": {},
   "source": [
    "# Leibniz Determinant of Matrix"
   ]
  },
  {
   "cell_type": "markdown",
   "id": "7cc2d619-6d0d-4b58-b722-24666c0503a9",
   "metadata": {},
   "source": [
    "![alt text](determinant.png)"
   ]
  },
  {
   "cell_type": "code",
   "execution_count": 1,
   "id": "d5cc75db-3ee0-4ace-8019-e75cfdd54a96",
   "metadata": {},
   "outputs": [],
   "source": [
    "import numpy\n",
    "import matplotlib"
   ]
  },
  {
   "cell_type": "code",
   "execution_count": null,
   "id": "10af2023-9623-4b06-80c0-1081ce220c02",
   "metadata": {},
   "outputs": [],
   "source": [
    "arr = np.array"
   ]
  }
 ],
 "metadata": {
  "kernelspec": {
   "display_name": "Python 3 (ipykernel)",
   "language": "python",
   "name": "python3"
  },
  "language_info": {
   "codemirror_mode": {
    "name": "ipython",
    "version": 3
   },
   "file_extension": ".py",
   "mimetype": "text/x-python",
   "name": "python",
   "nbconvert_exporter": "python",
   "pygments_lexer": "ipython3",
   "version": "3.11.0"
  }
 },
 "nbformat": 4,
 "nbformat_minor": 5
}
