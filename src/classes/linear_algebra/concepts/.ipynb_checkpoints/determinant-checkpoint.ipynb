{
 "cells": [
  {
   "cell_type": "markdown",
   "id": "c7d4f937",
   "metadata": {},
   "source": [
    "# Leibniz Determinant of Matrix"
   ]
  },
  {
   "cell_type": "markdown",
   "id": "7cc2d619-6d0d-4b58-b722-24666c0503a9",
   "metadata": {},
   "source": [
    "![alt text](../assets/determinant.png)"
   ]
  },
  {
   "cell_type": "markdown",
   "id": "7b88b467",
   "metadata": {},
   "source": [
    "The Leibniz formula for the determinant of an $n \\times n$ matrix $A$ is given by:\n",
    "\n",
    " $$\\Large \\det(A) = \\sum_{\\sigma \\in S_n} \\left( \\operatorname{sgn}(\\sigma) \\prod_{i=1}^n A_{i, \\sigma(i)} \\right)$$\n",
    "\n",
    "What does this actually mean?\n",
    "\n",
    "1. $$ \\Large \\sum_{\\sigma \\in S_n}$$\n",
    "\n",
    "This part of the equation tells us to sum over each permutation of the set $\\large S_n$ where $\\large S_n$ = {1, 2, 3,..., n}\n",
    "\n",
    "2. $$ \\Large \\operatorname{sgn}(\\sigma)$$\n",
    "\n",
    "This function, $ \\large \\operatorname{sgn}(\\sigma)$ returns +1 when the number of swaps required to reach the permutation $ \\large \\sigma$ is even, and -1 when the number of swaps is odd.  \n",
    "for a $3 \\times 3$ matrix we will have 3! possible permutations. For any $n \\times n$ matrix, we will have $n!$ possible permutations.\n",
    "\n",
    "What does this look like?  \n",
    "For a $3 \\times 3$ matrix $A$\n",
    "$$ \\Large\n",
    "A = \\begin{bmatrix}\n",
    "1 & 0 & 0 \\\\\n",
    "0 & 1 & 0 \\\\\n",
    "0 & 0 & 1\n",
    "\\end{bmatrix}\n",
    "$$\n",
    "\n",
    "We will have the set of permutations: $\\large S_3$ = {\n",
    "    (1, 2, 3),\n",
    "    (2, 1, 3),\n",
    "    (2, 3, 1),\n",
    "    (3, 2, 1),\n",
    "    (3, 1, 2),\n",
    "    (1, 3, 2)\n",
    "}  \n",
    "Notice the number of elements in our set $\\large S_3$ = $\\large 3!$  \n",
    "So, $\\large \\operatorname{sgn}$ of our first element would be +, since 0 swaps were required, - for our 2nd element as only one swap, the 1 and 2, is required. You get the idea.\n"
   ]
  },
  {
   "cell_type": "code",
   "execution_count": 1,
   "id": "d5cc75db-3ee0-4ace-8019-e75cfdd54a96",
   "metadata": {},
   "outputs": [],
   "source": [
    "import math as m\n",
    "import numpy as np\n",
    "import matplotlib as mplt\n",
    "\n",
    "from numpy import typing as npt"
   ]
  },
  {
   "cell_type": "code",
   "execution_count": 2,
   "id": "7cd50f5f",
   "metadata": {},
   "outputs": [],
   "source": [
    "def get_permutation_matrix(\n",
    "        n: int,\n",
    "        set: npt.NDArray[np.object_]\n",
    "    ) -> npt.NDArray[np.object_]:\n",
    "\n",
    "    if n == 1:\n",
    "        return np.ndarray([1])\n",
    "\n",
    "    new_set: npt.NDArray[np.object_] = np.array([], dtype=object)\n",
    "\n",
    "    set = get_permutation_matrix(n - 1, set)\n",
    "    for row in set:\n",
    "        for i in range(0, (n-1)):\n",
    "            copy: list[int] = row.copy()\n",
    "            copy[i] = n\n",
    "\n",
    "            np.append(new_set, copy)\n",
    "\n",
    "    return new_set"
   ]
  },
  {
   "cell_type": "code",
   "execution_count": 3,
   "id": "9843fa3b",
   "metadata": {},
   "outputs": [],
   "source": [
    "def get_permutation_sign(row: list[int]) -> int:\n",
    "    n_swaps: int = 0\n",
    "    i: int = 0\n",
    "\n",
    "    while i < len(row):\n",
    "        if list[i] > list[i+1]: n_swaps += 1\n",
    "\n",
    "        i += 1\n",
    "\n",
    "    return (-1)**n_swaps"
   ]
  },
  {
   "cell_type": "code",
   "execution_count": 4,
   "id": "62a12633",
   "metadata": {},
   "outputs": [],
   "source": [
    "def leibniz_det(arr: np.ndarray) -> int:\n",
    "\n",
    "  det: int = 0\n",
    "  for row in get_permutation_matrix(arr.ndim, []):\n",
    "    sgn_sigma = get_permutation_sign(row)\n",
    "\n",
    "    product: int = sgn_sigma * np.prod(row)\n",
    "    det += product\n",
    "\n",
    "  return det"
   ]
  },
  {
   "cell_type": "code",
   "execution_count": 5,
   "id": "10af2023-9623-4b06-80c0-1081ce220c02",
   "metadata": {},
   "outputs": [],
   "source": [
    "arr: np.ndarray = np.array([\n",
    "  [1, 0, 0],\n",
    "  [0, 1, 0],\n",
    "  [0, 0, 1]\n",
    "])"
   ]
  },
  {
   "cell_type": "code",
   "execution_count": 6,
   "id": "32f0b5e3-44da-4776-bcfc-2d074ac037c6",
   "metadata": {},
   "outputs": [
    {
     "ename": "TypeError",
     "evalue": "'numpy.float64' object does not support item assignment",
     "output_type": "error",
     "traceback": [
      "\u001b[31m---------------------------------------------------------------------------\u001b[39m",
      "\u001b[31mTypeError\u001b[39m                                 Traceback (most recent call last)",
      "\u001b[36mCell\u001b[39m\u001b[36m \u001b[39m\u001b[32mIn[6]\u001b[39m\u001b[32m, line 1\u001b[39m\n\u001b[32m----> \u001b[39m\u001b[32m1\u001b[39m \u001b[38;5;28mprint\u001b[39m(\u001b[43mleibniz_det\u001b[49m\u001b[43m(\u001b[49m\u001b[43marr\u001b[49m\u001b[43m)\u001b[49m)\n",
      "\u001b[36mCell\u001b[39m\u001b[36m \u001b[39m\u001b[32mIn[4]\u001b[39m\u001b[32m, line 4\u001b[39m, in \u001b[36mleibniz_det\u001b[39m\u001b[34m(arr)\u001b[39m\n\u001b[32m      1\u001b[39m \u001b[38;5;28;01mdef\u001b[39;00m\u001b[38;5;250m \u001b[39m\u001b[34mleibniz_det\u001b[39m(arr: np.ndarray) -> \u001b[38;5;28mint\u001b[39m:\n\u001b[32m      3\u001b[39m   det: \u001b[38;5;28mint\u001b[39m = \u001b[32m0\u001b[39m\n\u001b[32m----> \u001b[39m\u001b[32m4\u001b[39m   \u001b[38;5;28;01mfor\u001b[39;00m row \u001b[38;5;129;01min\u001b[39;00m \u001b[43mget_permutation_matrix\u001b[49m\u001b[43m(\u001b[49m\u001b[43marr\u001b[49m\u001b[43m.\u001b[49m\u001b[43mndim\u001b[49m\u001b[43m,\u001b[49m\u001b[43m \u001b[49m\u001b[43m[\u001b[49m\u001b[43m]\u001b[49m\u001b[43m)\u001b[49m:\n\u001b[32m      5\u001b[39m     sgn_sigma = get_permutation_sign(row)\n\u001b[32m      7\u001b[39m     product: \u001b[38;5;28mint\u001b[39m = sgn_sigma * np.prod(row)\n",
      "\u001b[36mCell\u001b[39m\u001b[36m \u001b[39m\u001b[32mIn[2]\u001b[39m\u001b[32m, line 15\u001b[39m, in \u001b[36mget_permutation_matrix\u001b[39m\u001b[34m(n, set)\u001b[39m\n\u001b[32m     13\u001b[39m     \u001b[38;5;28;01mfor\u001b[39;00m i \u001b[38;5;129;01min\u001b[39;00m \u001b[38;5;28mrange\u001b[39m(\u001b[32m0\u001b[39m, (n-\u001b[32m1\u001b[39m)):\n\u001b[32m     14\u001b[39m         copy: \u001b[38;5;28mlist\u001b[39m[\u001b[38;5;28mint\u001b[39m] = row.copy()\n\u001b[32m---> \u001b[39m\u001b[32m15\u001b[39m         \u001b[43mcopy\u001b[49m\u001b[43m[\u001b[49m\u001b[43mi\u001b[49m\u001b[43m]\u001b[49m = n\n\u001b[32m     17\u001b[39m         np.append(new_set, copy)\n\u001b[32m     19\u001b[39m \u001b[38;5;28;01mreturn\u001b[39;00m new_set\n",
      "\u001b[31mTypeError\u001b[39m: 'numpy.float64' object does not support item assignment"
     ]
    }
   ],
   "source": [
    "print(leibniz_det(arr))"
   ]
  },
  {
   "cell_type": "code",
   "execution_count": null,
   "id": "dd483849-8223-4ab6-a6bc-c77f5be01e84",
   "metadata": {},
   "outputs": [],
   "source": []
  }
 ],
 "metadata": {
  "kernelspec": {
   "display_name": "Python 3 (ipykernel)",
   "language": "python",
   "name": "python3"
  },
  "language_info": {
   "codemirror_mode": {
    "name": "ipython",
    "version": 3
   },
   "file_extension": ".py",
   "mimetype": "text/x-python",
   "name": "python",
   "nbconvert_exporter": "python",
   "pygments_lexer": "ipython3",
   "version": "3.11.0"
  }
 },
 "nbformat": 4,
 "nbformat_minor": 5
}
