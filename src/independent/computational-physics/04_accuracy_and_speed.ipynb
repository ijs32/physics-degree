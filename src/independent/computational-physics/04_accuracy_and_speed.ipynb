{
 "cells": [
  {
   "cell_type": "code",
   "execution_count": 27,
   "id": "d274f4ec",
   "metadata": {},
   "outputs": [],
   "source": [
    "import math"
   ]
  },
  {
   "cell_type": "markdown",
   "id": "9eed228c",
   "metadata": {},
   "source": [
    "# Accuracy and Speed"
   ]
  },
  {
   "cell_type": "code",
   "execution_count": 22,
   "id": "a55f864b",
   "metadata": {},
   "outputs": [
    {
     "name": "stdout",
     "output_type": "stream",
     "text": [
      "1e+308\n",
      "inf\n"
     ]
    }
   ],
   "source": [
    "# numbers can be specified in scientific notation:\n",
    "large_number = 2e15\n",
    "small_number = 2.0e-19\n",
    "\n",
    "# maximum number around 10^308\n",
    "x = 1e308\n",
    "print(x)\n",
    "\n",
    "try:\n",
    "  y = x*10\n",
    "\n",
    "  print(y)\n",
    "except OverflowError as e:\n",
    "  print(e) # y exceeds our large number limit"
   ]
  },
  {
   "cell_type": "markdown",
   "id": "99877cb2",
   "metadata": {},
   "source": [
    "An integer can be arbitrarily large, but a float caps out at around 1x10^308"
   ]
  },
  {
   "cell_type": "markdown",
   "id": "7ba9a4d4",
   "metadata": {},
   "source": [
    "### Exercise 4.1: Calculate the factorial of a number entered by a user.\n",
    "\n",
    "Then, determine the difference between calculating as a float or int."
   ]
  },
  {
   "cell_type": "code",
   "execution_count": 33,
   "id": "22306ef1",
   "metadata": {},
   "outputs": [
    {
     "name": "stdout",
     "output_type": "stream",
     "text": [
      "calculating the factorial of 5...\n",
      "120\n",
      "120.0\n"
     ]
    }
   ],
   "source": [
    "factorial = input(\"What number do you want the factorial of?\")\n",
    "\n",
    "print(f\"calculating the factorial of {factorial}...\")\n",
    "\n",
    "def get_factorial(n):\n",
    "  if n == 1:\n",
    "    return n\n",
    "\n",
    "  return n * get_factorial(n-1)\n",
    "\n",
    "print(get_factorial(int(factorial)))\n",
    "print(get_factorial(float(factorial)))\n"
   ]
  },
  {
   "cell_type": "code",
   "execution_count": 36,
   "id": "a3867a15",
   "metadata": {},
   "outputs": [
    {
     "name": "stdout",
     "output_type": "stream",
     "text": [
      "342 ns ± 2.21 ns per loop (mean ± std. dev. of 7 runs, 1,000,000 loops each)\n"
     ]
    }
   ],
   "source": [
    "%timeit get_factorial(10)"
   ]
  },
  {
   "cell_type": "code",
   "execution_count": 37,
   "id": "7dfc87e0",
   "metadata": {},
   "outputs": [
    {
     "name": "stdout",
     "output_type": "stream",
     "text": [
      "456 ns ± 7.85 ns per loop (mean ± std. dev. of 7 runs, 1,000,000 loops each)\n"
     ]
    }
   ],
   "source": [
    "%timeit get_factorial(10.0)"
   ]
  },
  {
   "cell_type": "markdown",
   "id": "751f0902",
   "metadata": {},
   "source": [
    "Running the function with an int is considerably faster than using a float."
   ]
  },
  {
   "cell_type": "code",
   "execution_count": 42,
   "id": "178e609b",
   "metadata": {},
   "outputs": [
    {
     "name": "stdout",
     "output_type": "stream",
     "text": [
      "3.141592653589793\n",
      "1.4142135623730951\n"
     ]
    }
   ],
   "source": [
    "print(math.pi) # The standard precision is 16 digits\n",
    "print(math.sqrt(2))"
   ]
  },
  {
   "cell_type": "code",
   "execution_count": 41,
   "id": "8933e86c",
   "metadata": {},
   "outputs": [
    {
     "name": "stdout",
     "output_type": "stream",
     "text": [
      "3.3000000000000003\n"
     ]
    }
   ],
   "source": [
    "# This means that any operation involving floats will result in 16 digits and some rounding error\n",
    "# IF the floats have non zero values past the decimal, i.e, not 1.0 + 2.0\n",
    "x = 1.1\n",
    "y = 2.2\n",
    "\n",
    "print(x + y)"
   ]
  },
  {
   "cell_type": "markdown",
   "id": "b7ea9c99",
   "metadata": {},
   "source": [
    "### Exercise 4.2: Error with Quadratic Equation\n",
    "a) Write a function that takes as input three numbers, a, b, and c, and prints out the two solutions using the standard formula:\n",
    "\n",
    "$$ x = \\frac{-b \\pm \\sqrt{b^2 - 4ac}}{2a} $$\n",
    "\n",
    "b) Write a function that instead uses the following alternative quadratic formula:\n",
    "\n",
    "$$ x = \\frac{2c}{-b \\mp \\sqrt{b^2 - 4ac}} $$\n",
    "\n",
    "use both functions to compute and compare: $$ 0.001x^2 + 1000x + 0.001 = 0 $$\n",
    "\n"
   ]
  },
  {
   "cell_type": "code",
   "execution_count": null,
   "id": "3fd7d1e7",
   "metadata": {},
   "outputs": [],
   "source": [
    "def orig_quadratic(a: int|float, b: int|float, c: int|float) -> int|float:\n",
    "  pass"
   ]
  }
 ],
 "metadata": {
  "kernelspec": {
   "display_name": "Python 3 (ipykernel)",
   "language": "python",
   "name": "python3"
  }
 },
 "nbformat": 4,
 "nbformat_minor": 5
}
