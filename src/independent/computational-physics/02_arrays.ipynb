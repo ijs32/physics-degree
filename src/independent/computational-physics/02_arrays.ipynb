{
 "cells": [
  {
   "cell_type": "markdown",
   "id": "ad6e5cc7",
   "metadata": {},
   "source": [
    "### 2.4.2 Arrays"
   ]
  },
  {
   "cell_type": "markdown",
   "id": "d2612fbc",
   "metadata": {},
   "source": [
    "In order to initialize an array, we can use the numpy zeros method.  \n",
    "we first specify the shape, then the data type"
   ]
  },
  {
   "cell_type": "code",
   "execution_count": 95,
   "id": "17e57751",
   "metadata": {},
   "outputs": [
    {
     "data": {
      "text/plain": [
       "array([0., 0., 0., 0.])"
      ]
     },
     "execution_count": 95,
     "metadata": {},
     "output_type": "execute_result"
    }
   ],
   "source": [
    "import numpy as np\n",
    "\n",
    "a = np.zeros(4, float)\n",
    "a\n",
    "\n"
   ]
  },
  {
   "cell_type": "code",
   "execution_count": 96,
   "id": "c2e443ac",
   "metadata": {},
   "outputs": [
    {
     "data": {
      "text/plain": [
       "array([[0., 0., 0., 0.],\n",
       "       [0., 0., 0., 0.],\n",
       "       [0., 0., 0., 0.]])"
      ]
     },
     "execution_count": 96,
     "metadata": {},
     "output_type": "execute_result"
    }
   ],
   "source": [
    "b = np.zeros([3,4], float)\n",
    "b"
   ]
  },
  {
   "cell_type": "markdown",
   "id": "a04c2be9",
   "metadata": {},
   "source": [
    "Alternatively, if we plan to change the numbers, we can save time using np.empty()"
   ]
  },
  {
   "cell_type": "code",
   "execution_count": 97,
   "id": "0a9af0dc",
   "metadata": {},
   "outputs": [
    {
     "data": {
      "text/plain": [
       "array([[0., 0., 0., 0.],\n",
       "       [0., 0., 0., 0.],\n",
       "       [0., 0., 0., 0.]])"
      ]
     },
     "execution_count": 97,
     "metadata": {},
     "output_type": "execute_result"
    }
   ],
   "source": [
    "c = np.empty([3, 4], float)\n",
    "c"
   ]
  },
  {
   "cell_type": "markdown",
   "id": "04c7397b",
   "metadata": {},
   "source": [
    "We can also take a pre-existing python list and convert it into an array:"
   ]
  },
  {
   "cell_type": "code",
   "execution_count": 98,
   "id": "ffe3de47",
   "metadata": {},
   "outputs": [
    {
     "data": {
      "text/plain": [
       "array([1. , 2.5, 3.2])"
      ]
     },
     "execution_count": 98,
     "metadata": {},
     "output_type": "execute_result"
    }
   ],
   "source": [
    "d = [1.0, 2.5, 3.2]\n",
    "e = np.array(d, float)\n",
    "e"
   ]
  },
  {
   "cell_type": "markdown",
   "id": "23e2674d",
   "metadata": {},
   "source": [
    "or in the case of an n-dimensional array:"
   ]
  },
  {
   "cell_type": "code",
   "execution_count": 99,
   "id": "9d272c9e",
   "metadata": {},
   "outputs": [
    {
     "data": {
      "text/plain": [
       "array([[0, 2, 4],\n",
       "       [1, 2, 4]])"
      ]
     },
     "execution_count": 99,
     "metadata": {},
     "output_type": "execute_result"
    }
   ],
   "source": [
    "a = [0, 2, 4]\n",
    "b = [1, 2, 4]\n",
    "\n",
    "c = np.array([a, b], int)\n",
    "c"
   ]
  },
  {
   "cell_type": "markdown",
   "id": "a8f7d756",
   "metadata": {},
   "source": [
    "accessing elements in an array:"
   ]
  },
  {
   "cell_type": "code",
   "execution_count": 100,
   "id": "db4b48bc",
   "metadata": {},
   "outputs": [
    {
     "data": {
      "text/plain": [
       "array([[ 0,  1],\n",
       "       [-1,  0]])"
      ]
     },
     "execution_count": 100,
     "metadata": {},
     "output_type": "execute_result"
    }
   ],
   "source": [
    "a = np.zeros([2,2], int) # 2x2 matrix of zeros\n",
    "a[0,1] = 1  # row 0 column 1 = 1\n",
    "a[1,0] = -1 # row 1 column 0 = -1\n",
    "\n",
    "a"
   ]
  },
  {
   "cell_type": "markdown",
   "id": "844988ca",
   "metadata": {},
   "source": [
    "We can do math on entire arrays, with each element having the operation applied to it"
   ]
  },
  {
   "cell_type": "code",
   "execution_count": 101,
   "id": "0e493c3b",
   "metadata": {},
   "outputs": [
    {
     "data": {
      "text/plain": [
       "array([[2, 4, 6],\n",
       "       [2, 4, 6]])"
      ]
     },
     "execution_count": 101,
     "metadata": {},
     "output_type": "execute_result"
    }
   ],
   "source": [
    "a = np.array([[1,2,3],\n",
    "              [1,2,3]\n",
    "            ], int)\n",
    "\n",
    "a*2"
   ]
  },
  {
   "cell_type": "code",
   "execution_count": 102,
   "id": "da858583",
   "metadata": {},
   "outputs": [
    {
     "data": {
      "text/plain": [
       "array([[-1, -2, -3],\n",
       "       [-1, -2, -3]])"
      ]
     },
     "execution_count": 102,
     "metadata": {},
     "output_type": "execute_result"
    }
   ],
   "source": [
    "b = np.array([[1,2,3],\n",
    "              [1,2,3]\n",
    "            ], int)\n",
    "\n",
    "a - 2*b"
   ]
  },
  {
   "cell_type": "markdown",
   "id": "892fd700",
   "metadata": {},
   "source": [
    "if we multiply two arrays together, we do not get dot product, instead each element multiplies its corresponding element"
   ]
  },
  {
   "cell_type": "code",
   "execution_count": 103,
   "id": "ce6d1247",
   "metadata": {},
   "outputs": [
    {
     "data": {
      "text/plain": [
       "array([[1, 4, 9],\n",
       "       [1, 4, 9]])"
      ]
     },
     "execution_count": 103,
     "metadata": {},
     "output_type": "execute_result"
    }
   ],
   "source": [
    "a * b"
   ]
  },
  {
   "cell_type": "markdown",
   "id": "ffbc4752",
   "metadata": {},
   "source": [
    "in order to get dot product, we must import it"
   ]
  },
  {
   "cell_type": "code",
   "execution_count": 104,
   "id": "580d93bc",
   "metadata": {},
   "outputs": [
    {
     "data": {
      "text/plain": [
       "array([[16, 20],\n",
       "       [30, 46]])"
      ]
     },
     "execution_count": 104,
     "metadata": {},
     "output_type": "execute_result"
    }
   ],
   "source": [
    "from numpy import dot, array\n",
    "\n",
    "a = array([[1,2],[3,4]], int)\n",
    "b = array([[2,4],[6,8]], int)\n",
    "c = array([[1,0],[0,1]], int)\n",
    "\n",
    "dot(a, b) + 2*c"
   ]
  },
  {
   "cell_type": "markdown",
   "id": "983b0a93",
   "metadata": {},
   "source": [
    "### important to note that outside of using two vectors, np.dot actually is just doing matrix multiplication  \n",
    "I prefer to use the matrix multiplication operator for clarity"
   ]
  },
  {
   "cell_type": "code",
   "execution_count": 105,
   "id": "1b561e85",
   "metadata": {},
   "outputs": [
    {
     "data": {
      "text/plain": [
       "array([[16, 20],\n",
       "       [30, 46]])"
      ]
     },
     "execution_count": 105,
     "metadata": {},
     "output_type": "execute_result"
    }
   ],
   "source": [
    "a @ b + 2*c"
   ]
  }
 ],
 "metadata": {
  "kernelspec": {
   "display_name": "Python 3 (ipykernel)",
   "language": "python",
   "name": "python3"
  },
  "language_info": {
   "codemirror_mode": {
    "name": "ipython",
    "version": 3
   },
   "file_extension": ".py",
   "mimetype": "text/x-python",
   "name": "python",
   "nbconvert_exporter": "python",
   "pygments_lexer": "ipython3",
   "version": "3.13.3"
  }
 },
 "nbformat": 4,
 "nbformat_minor": 5
}
