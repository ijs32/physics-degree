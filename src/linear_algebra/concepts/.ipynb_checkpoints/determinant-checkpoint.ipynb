{
 "cells": [
  {
   "cell_type": "markdown",
   "id": "c7d4f937",
   "metadata": {},
   "source": [
    "# Leibniz Determinant of Matrix"
   ]
  },
  {
   "cell_type": "markdown",
   "id": "7cc2d619-6d0d-4b58-b722-24666c0503a9",
   "metadata": {},
   "source": [
    "![alt text](../assets/determinant.png)"
   ]
  },
  {
   "cell_type": "markdown",
   "id": "7b88b467",
   "metadata": {},
   "source": [
    "The Leibniz formula for the determinant of an $n \\times n$ matrix $A$ is given by:\n",
    "\n",
    " $$\\Large \\det(A) = \\sum_{\\sigma \\in S_n} \\left( \\operatorname{sgn}(\\sigma) \\prod_{i=1}^n A_{i, \\sigma(i)} \\right)$$\n",
    "\n",
    "What does this actually mean?\n",
    "\n",
    "1. $$ \\Large \\sum_{\\sigma \\in S_n}$$\n",
    "\n",
    "This part of the equation tells us to sum over each permutation of the set $\\large S_n$ where $\\large S_n$ = {1, 2, 3,..., n}\n",
    "\n",
    "2. $$ \\Large \\operatorname{sgn}(\\sigma)$$\n",
    "\n",
    "This function, $ \\large \\operatorname{sgn}(\\sigma)$ returns +1 when the number of swaps required to reach the permutation $ \\large \\sigma$ is even, and -1 when the number of swaps is odd.  \n",
    "for a $3 \\times 3$ matrix we will have 3! possible permutations. For any $n \\times n$ matrix, we will have $n!$ possible permutations.\n",
    "\n",
    "What does this look like?  \n",
    "For a $3 \\times 3$ matrix $A$\n",
    "$$ \\Large\n",
    "A = \\begin{bmatrix}\n",
    "1 & 0 & 0 \\\\\n",
    "0 & 1 & 0 \\\\\n",
    "0 & 0 & 1\n",
    "\\end{bmatrix}\n",
    "$$\n",
    "\n",
    "We will have the set of permutations: $\\large S_3$ = {\n",
    "    (1, 2, 3),\n",
    "    (2, 1, 3),\n",
    "    (2, 3, 1),\n",
    "    (3, 2, 1),\n",
    "    (3, 1, 2),\n",
    "    (1, 3, 2)\n",
    "}  \n",
    "Notice the number of elements in our set $\\large S_3$ = $\\large n!$  \n",
    "So, $\\large \\operatorname{sgn}$ of our first element would be +, since 0 swaps were required, - for our 2nd element as only one swap, the 1 and 2, is required. You get the idea.\n"
   ]
  },
  {
   "cell_type": "code",
   "execution_count": 2,
   "id": "d5cc75db-3ee0-4ace-8019-e75cfdd54a96",
   "metadata": {},
   "outputs": [],
   "source": [
    "import math as m\n",
    "import numpy as np\n",
    "import matplotlib as mplt"
   ]
  },
  {
   "cell_type": "code",
   "execution_count": null,
   "id": "7cd50f5f",
   "metadata": {},
   "outputs": [],
   "source": [
    "def get_permutation_matrix(\n",
    "        n: int, \n",
    "        p: list[list[int]]\n",
    "    ) -> list[list[int]]:\n",
    "\n",
    "    if n == 1:\n",
    "        return [[1]]\n",
    "\n",
    "    for i in range(n):\n",
    "        return [[i]]\n",
    "\n",
    "    return p"
   ]
  },
  {
   "cell_type": "code",
   "execution_count": null,
   "id": "62a12633",
   "metadata": {},
   "outputs": [],
   "source": [
    "def leibniz_det(arr: np.ndarray) -> int:\n",
    "  d: int = 0\n",
    "  for row in get_permutation_matrix(arr.ndim, []):\n",
    "    pass\n",
    "  return 0"
   ]
  },
  {
   "cell_type": "code",
   "execution_count": null,
   "id": "10af2023-9623-4b06-80c0-1081ce220c02",
   "metadata": {},
   "outputs": [],
   "source": [
    "arr: np.ndarray = np.array([\n",
    "  [1, 0, 0],\n",
    "  [0, 1, 0],\n",
    "  [0, 0, 1]\n",
    "])"
   ]
  }
 ],
 "metadata": {
  "kernelspec": {
   "display_name": "class-notes-WXXRkLwE-py3.13",
   "language": "python",
   "name": "python3"
  },
  "language_info": {
   "codemirror_mode": {
    "name": "ipython",
    "version": 3
   },
   "file_extension": ".py",
   "mimetype": "text/x-python",
   "name": "python",
   "nbconvert_exporter": "python",
   "pygments_lexer": "ipython3",
   "version": "3.13.3"
  }
 },
 "nbformat": 4,
 "nbformat_minor": 5
}
