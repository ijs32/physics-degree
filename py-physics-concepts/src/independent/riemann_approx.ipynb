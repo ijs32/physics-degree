{
 "cells": [
  {
   "cell_type": "code",
   "execution_count": 8,
   "id": "3b550c01",
   "metadata": {},
   "outputs": [],
   "source": [
    "import math\n",
    "import numpy as np\n",
    "import matplotlib.pyplot as plt"
   ]
  },
  {
   "cell_type": "markdown",
   "id": "8c480658",
   "metadata": {},
   "source": [
    "# Reviewing Riemann sums\n",
    "\n",
    "$$\\sum_{i=1}^{n} f(t_i) \\Delta t$$\n",
    "\n",
    "Code to approximate the integral of a function"
   ]
  },
  {
   "cell_type": "code",
   "execution_count": 19,
   "id": "86f06ecb",
   "metadata": {},
   "outputs": [],
   "source": [
    "def custom_func(r):\n",
    "    return r**2\n",
    "\n",
    "def riemann_sum(n,f,x0,x1):\n",
    "    r = np.linspace(x0,x1,n)\n",
    "    f_ti = f(r)\n",
    "\n",
    "    delta_x = ((x1 - x0)/n)\n",
    "\n",
    "    summa = sum(f_ti)\n",
    "    sigma = summa * delta_x\n",
    "\n",
    "    return sigma\n",
    "\n",
    "n = 1000"
   ]
  },
  {
   "cell_type": "code",
   "execution_count": 16,
   "id": "20396a48",
   "metadata": {},
   "outputs": [
    {
     "name": "stdout",
     "output_type": "stream",
     "text": [
      "1.9979983534190777\n"
     ]
    }
   ],
   "source": [
    "r_sum = riemann_sum(n, np.sin, 0, math.pi)\n",
    "print(r_sum)"
   ]
  },
  {
   "cell_type": "code",
   "execution_count": 20,
   "id": "393c0551",
   "metadata": {},
   "outputs": [
    {
     "name": "stdout",
     "output_type": "stream",
     "text": [
      "21.00450450450451\n"
     ]
    }
   ],
   "source": [
    "r_sum = riemann_sum(n, custom_func, 1, 4)\n",
    "print(r_sum)"
   ]
  },
  {
   "cell_type": "markdown",
   "id": "9b4af08f",
   "metadata": {},
   "source": [
    "A bit lame using numpy functions and sort of hides what exactly is going on, i'll do from scratch below"
   ]
  },
  {
   "cell_type": "code",
   "execution_count": null,
   "id": "186f4f01",
   "metadata": {},
   "outputs": [],
   "source": [
    "def riemann_sum():\n",
    "    pass"
   ]
  }
 ],
 "metadata": {
  "kernelspec": {
   "display_name": "Python 3 (ipykernel)",
   "language": "python",
   "name": "python3"
  },
  "language_info": {
   "codemirror_mode": {
    "name": "ipython",
    "version": 3
   },
   "file_extension": ".py",
   "mimetype": "text/x-python",
   "name": "python",
   "nbconvert_exporter": "python",
   "pygments_lexer": "ipython3",
   "version": "3.13.3"
  }
 },
 "nbformat": 4,
 "nbformat_minor": 5
}
